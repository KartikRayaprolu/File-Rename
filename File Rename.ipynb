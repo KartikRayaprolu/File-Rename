{
 "cells": [
  {
   "cell_type": "code",
   "execution_count": 1,
   "metadata": {},
   "outputs": [
    {
     "name": "stderr",
     "output_type": "stream",
     "text": [
      "ERROR: Could not find a version that satisfies the requirement os (from versions: none)\n",
      "ERROR: No matching distribution found for os\n"
     ]
    }
   ],
   "source": [
    "!pip install os"
   ]
  },
  {
   "cell_type": "code",
   "execution_count": 340,
   "metadata": {},
   "outputs": [],
   "source": [
    "import os\n",
    "# Function to rename multiple files\n",
    "def main():\n",
    "   i = 0\n",
    "   path=\"C:/Users/Kartik Rayaprolu/Desktop/images/New folder/00536/\"\n",
    "   for filename in os.listdir(path):\n",
    "      my_dest =\"mask236000\" + str(i) + \".jpg\"\n",
    "      my_source =path + filename\n",
    "      my_dest =path + my_dest\n",
    "      # rename() function will\n",
    "      # rename all the files\n",
    "      os.rename(my_source, my_dest)\n",
    "      i += 1\n",
    "# Driver Code\n",
    "if __name__ == '__main__':\n",
    "   # Calling main() function\n",
    "   main() "
   ]
  },
  {
   "cell_type": "code",
   "execution_count": null,
   "metadata": {},
   "outputs": [],
   "source": []
  }
 ],
 "metadata": {
  "kernelspec": {
   "display_name": "Python 3",
   "language": "python",
   "name": "python3"
  },
  "language_info": {
   "codemirror_mode": {
    "name": "ipython",
    "version": 3
   },
   "file_extension": ".py",
   "mimetype": "text/x-python",
   "name": "python",
   "nbconvert_exporter": "python",
   "pygments_lexer": "ipython3",
   "version": "3.8.3"
  }
 },
 "nbformat": 4,
 "nbformat_minor": 4
}
